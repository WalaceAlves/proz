{
 "cells": [
  {
   "cell_type": "code",
   "execution_count": 1,
   "id": "d2cc6fc4",
   "metadata": {},
   "outputs": [],
   "source": [
    "import pandas as pd\n",
    "from IPython.display import display, Markdown"
   ]
  },
  {
   "cell_type": "code",
   "execution_count": 6,
   "id": "41685b45-5546-4f9e-a666-344b1f177aec",
   "metadata": {},
   "outputs": [
    {
     "name": "stdout",
     "output_type": "stream",
     "text": [
      "\n",
      "Bemvindo a sua calculadora\n",
      "\n"
     ]
    }
   ],
   "source": [
    "def Bemvindo():\n",
    "    print('''\n",
    "Bemvindo a sua calculadora\n",
    "''')\n",
    "\n",
    "Bemvindo()"
   ]
  },
  {
   "cell_type": "code",
   "execution_count": 2,
   "id": "56b726f3-7f49-4d37-81e7-56dadcc80798",
   "metadata": {},
   "outputs": [
    {
     "name": "stdin",
     "output_type": "stream",
     "text": [
      "Digite o primeiro número:  8\n",
      "Digite o segundo número:  9\n"
     ]
    }
   ],
   "source": [
    "# Receber os números e a operação do usuário\n",
    "num1 = float(input(\"Digite o primeiro número: \"))\n",
    "num2 = float(input(\"Digite o segundo número: \"))"
   ]
  },
  {
   "cell_type": "code",
   "execution_count": 3,
   "id": "9ad8dce6-947a-4d2a-82f8-6de507c7a9b9",
   "metadata": {},
   "outputs": [
    {
     "name": "stdin",
     "output_type": "stream",
     "text": [
      "Escolha a operação:\n",
      "1 - Adição\n",
      "2 - Subtração\n",
      "3 - Multiplicação\n",
      "4 - Divisão\n",
      "5 - Raiz Quadrada\n",
      "6 - Percentual\n",
      "7 - Potência\n",
      " 3\n"
     ]
    }
   ],
   "source": [
    "operacao = int(input(f\"Escolha a operação:\\n\"\n",
    "                   f\"1 - Adição\\n\"\n",
    "                   f\"2 - Subtração\\n\"\n",
    "                   f\"3 - Multiplicação\\n\"\n",
    "                   f\"4 - Divisão\\n\"\n",
    "                   f\"5 - Raiz Quadrada\\n\"\n",
    "                   f\"6 - Percentual\\n\"\n",
    "                   f\"7 - Potência\\n\"))"
   ]
  },
  {
   "cell_type": "code",
   "execution_count": 4,
   "id": "b06a6bce-55de-4296-96ac-c3a3b14a1d06",
   "metadata": {},
   "outputs": [],
   "source": [
    "# Executar a operação escolhida\n",
    "if operacao == 1:\n",
    "    resultado = num1 + num2\n",
    "    operacao_texto = \"Adição\"\n",
    "elif operacao == 2:\n",
    "    resultado = num1 - num2\n",
    "    operacao_texto = \"Subtração\"\n",
    "elif operacao == 3:\n",
    "    resultado = num1 * num2\n",
    "    operacao_texto = \"Multiplicação\"\n",
    "elif operacao == 4:\n",
    "    resultado = num1 / num2\n",
    "    operacao_texto = \"Divisão\"\n",
    "elif operacao == 5:\n",
    "    resultado = num1 ** 0.5  # Raiz quadrada\n",
    "    operacao_texto = \"Raiz Quadrada\"\n",
    "elif operacao == 6:\n",
    "    resultado = (num1 / num2) * 100\n",
    "    operacao_texto = \"Percentual\"\n",
    "elif operacao == 7:\n",
    "    resultado = num1 ** num2\n",
    "    operacao_texto = \"Potência\"\n",
    "else:\n",
    "    display(Markdown(\"**Operação inválida**\"))\n",
    "    resultado = None"
   ]
  },
  {
   "cell_type": "code",
   "execution_count": 5,
   "id": "2e927378-d085-459e-ba32-0e115cebca52",
   "metadata": {},
   "outputs": [
    {
     "data": {
      "text/markdown": [
       "**Resultado da Multiplicação:** 72.0"
      ],
      "text/plain": [
       "<IPython.core.display.Markdown object>"
      ]
     },
     "metadata": {},
     "output_type": "display_data"
    }
   ],
   "source": [
    "# Exibir o resultado, se disponível\n",
    "if resultado is not None:\n",
    "    display(Markdown(f\"**Resultado da {operacao_texto}:** {resultado}\"))"
   ]
  },
  {
   "cell_type": "code",
   "execution_count": null,
   "id": "edfb90c9-8668-444f-985b-59db7a0b923b",
   "metadata": {},
   "outputs": [],
   "source": []
  }
 ],
 "metadata": {
  "kernelspec": {
   "display_name": "Python 3 (ipykernel)",
   "language": "python",
   "name": "python3"
  },
  "language_info": {
   "codemirror_mode": {
    "name": "ipython",
    "version": 3
   },
   "file_extension": ".py",
   "mimetype": "text/x-python",
   "name": "python",
   "nbconvert_exporter": "python",
   "pygments_lexer": "ipython3",
   "version": "3.8.18"
  }
 },
 "nbformat": 4,
 "nbformat_minor": 5
}
