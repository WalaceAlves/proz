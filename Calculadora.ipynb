{
 "cells": [
  {
   "cell_type": "code",
   "execution_count": null,
   "id": "d2cc6fc4",
   "metadata": {},
   "outputs": [],
   "source": [
    "import pandas as pd"
   ]
  },
  {
   "cell_type": "code",
   "execution_count": null,
   "id": "6d52b8fe",
   "metadata": {},
   "outputs": [],
   "source": [
    "# Receber os números e a operação do usuário\n",
    "num1 = float(input(\"Digite o primeiro número: \"))\n",
    "num2 = float(input(\"Digite o segundo número: \"))\n",
    "operacao = int(input(f\"Escolha a operação:\\n\"\n",
    "                     f\"1 - Adição\\n\"\n",
    "                     f\"2 - Subtração\\n\"\n",
    "                     f\"3 - Multiplicação\\n\"\n",
    "                     f\"4 - Divisão\\n\"\n",
    "                     f\"5 - Raiz Quadrada\\n\"\n",
    "                     f\"6 - Percentual\\n\"\n",
    "                     f\"7 - Potência\\n\"))\n",
    "\n",
    "# Executar a operação escolhida\n",
    "if operacao == 1:\n",
    "    resultado = num1 + num2\n",
    "    operacao_texto = \"Adição\"\n",
    "elif operacao == 2:\n",
    "    resultado = num1 - num2\n",
    "    operacao_texto = \"Subtração\"\n",
    "elif operacao == 3:\n",
    "    resultado = num1 * num2\n",
    "    operacao_texto = \"Multiplicação\"\n",
    "elif operacao == 4:\n",
    "    resultado = num1 / num2\n",
    "    operacao_texto = \"Divisão\"\n",
    "elif operacao == 5:\n",
    "    resultado = num1 ** 0.5  # Raiz quadrada\n",
    "    operacao_texto = \"Raiz Quadrada\"\n",
    "elif operacao == 6:\n",
    "    resultado = (num1 / num2) * 100\n",
    "    operacao_texto = \"Percentual\"\n",
    "elif operacao == 7:\n",
    "    resultado = num1 ** num2\n",
    "    operacao_texto = \"Potência\"\n",
    "else:\n",
    "    print(\"Operação inválida\")\n",
    "    resultado = None\n",
    "\n",
    "# Exibir o resultado, se disponível\n",
    "if resultado is not None:\n",
    "    print(f\"Resultado da {operacao_texto}: {resultado}\")\n"
   ]
  }
 ],
 "metadata": {
  "kernelspec": {
   "display_name": "Python 3 (ipykernel)",
   "language": "python",
   "name": "python3"
  },
  "language_info": {
   "codemirror_mode": {
    "name": "ipython",
    "version": 3
   },
   "file_extension": ".py",
   "mimetype": "text/x-python",
   "name": "python",
   "nbconvert_exporter": "python",
   "pygments_lexer": "ipython3",
   "version": "3.8.18"
  }
 },
 "nbformat": 4,
 "nbformat_minor": 5
}
