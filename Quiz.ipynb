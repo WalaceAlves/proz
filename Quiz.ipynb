{
 "cells": [
  {
   "cell_type": "code",
   "execution_count": null,
   "id": "1ff84cd5-1574-4b0f-af96-094865f1f41d",
   "metadata": {},
   "outputs": [],
   "source": [
    "import pandas as pd"
   ]
  },
  {
   "cell_type": "code",
   "execution_count": null,
   "id": "5d89506c-4c76-4504-bdd9-ec6951847868",
   "metadata": {},
   "outputs": [],
   "source": [
    "def Divirta():\n",
    "    print('''\n",
    "Bemvindo e se divirta com este quiz\n",
    "''')\n",
    "\n",
    "Divirta()"
   ]
  },
  {
   "cell_type": "code",
   "execution_count": null,
   "id": "066d4d11-20d0-4d08-9b79-b07051390676",
   "metadata": {},
   "outputs": [],
   "source": [
    "pontuacao_total = 0  # Inicializa a pontuação total\n",
    "# Pergunta 1\n",
    "print(\"Pergunta 1: Qual é a capital do Brasil?\")\n",
    "print(\"a) São Paulo\")\n",
    "print(\"b) Rio de Janeiro\")\n",
    "print(\"c) Brasília\")\n",
    "\n",
    "resposta_pergunta1 = input(\"Sua resposta: \").lower()\n",
    "\n",
    "if resposta_pergunta1 == \"c\":\n",
    "    print(\"Resposta correta! Você ganhou 10 pontos.\")\n",
    "    pontuacao_total += 10\n",
    "else:\n",
    "    print(\"Resposta incorreta. A resposta correta é 'c'.\")\n"
   ]
  },
  {
   "cell_type": "code",
   "execution_count": null,
   "id": "9b4f6277-10c3-44cd-a5a0-097c2cbad1ae",
   "metadata": {},
   "outputs": [],
   "source": [
    "# Pergunta 2\n",
    "print(\"\\nPergunta 2: Quem é o autor de 'Dom Quixote'?\")\n",
    "print(\"a) William Shakespeare\")\n",
    "print(\"b) Miguel de Cervantes\")\n",
    "print(\"c) Fyodor Dostoevsky\")\n",
    "\n",
    "resposta_pergunta2 = input(\"Sua resposta: \").lower()\n",
    "\n",
    "if resposta_pergunta2 == \"b\":\n",
    "    print(\"Resposta correta! Você ganhou 10 pontos.\")\n",
    "    pontuacao_total += 10\n",
    "else:\n",
    "    print(\"Resposta incorreta. A resposta correta é 'b'.\")"
   ]
  },
  {
   "cell_type": "code",
   "execution_count": null,
   "id": "54fe5b24-8140-4955-9b6c-28a46e9b68a6",
   "metadata": {},
   "outputs": [],
   "source": [
    "# Pergunta 3\n",
    "print(\"\\nPergunta 3: Qual é o maior planeta do nosso sistema solar?\")\n",
    "print(\"a) Terra\")\n",
    "print(\"b) Júpiter\")\n",
    "print(\"c) Marte\")\n",
    "\n",
    "resposta_pergunta3 = input(\"Sua resposta: \").lower()\n",
    "    \n",
    "if resposta_pergunta3 == \"b\":\n",
    "    print(\"Resposta correta! Você ganhou 10 pontos.\")\n",
    "    pontuacao_total += 10\n",
    "else:\n",
    "    print(\"Resposta incorreta. A resposta correta é 'b'.\")\n"
   ]
  },
  {
   "cell_type": "code",
   "execution_count": null,
   "id": "0b1bcc63-8d2e-496e-879f-0e75c6a658b3",
   "metadata": {},
   "outputs": [],
   "source": [
    "# Pergunta 4\n",
    "print(\"\\nPergunta 4: Quem foi o primeiro presidente dos Estados Unidos?\")\n",
    "print(\"a) Abraham Lincoln\")\n",
    "print(\"b) George Washington\")\n",
    "print(\"c) John F. Kennedy\")\n",
    "\n",
    "resposta_pergunta4 = input(\"Sua resposta: \").lower()\n",
    "    \n",
    "if resposta_pergunta4 == \"b\":\n",
    "    print(\"Resposta correta! Você ganhou 10 pontos.\")\n",
    "    pontuacao_total += 10\n",
    "else:\n",
    "    print(\"Resposta incorreta. A resposta correta é 'b'.\")\n",
    "    "
   ]
  },
  {
   "cell_type": "code",
   "execution_count": null,
   "id": "f0391311-8952-439f-acbc-8918f3e54140",
   "metadata": {},
   "outputs": [],
   "source": [
    "# Pergunta 5\n",
    "print(\"\\nPergunta 5: Qual é a capital da França?\")\n",
    "print(\"a) Berlim\")\n",
    "print(\"b) Roma\")\n",
    "print(\"c) Paris\")\n",
    "\n",
    "resposta_pergunta5 = input(\"Sua resposta: \").lower()\n",
    "    \n",
    "if resposta_pergunta5 == \"c\":\n",
    "    print(\"Resposta correta! Você ganhou 10 pontos.\")\n",
    "    pontuacao_total += 10\n",
    "else:\n",
    "    print(\"Resposta incorreta. A resposta correta é 'c'.\")\n",
    "    "
   ]
  },
  {
   "cell_type": "code",
   "execution_count": null,
   "id": "986aa48e-6d0c-4335-bfc7-f9e43b91613c",
   "metadata": {},
   "outputs": [],
   "source": [
    "\n",
    "# Pergunta 6\n",
    "print(\"\\nPergunta 6: Em que ano foi lançado o primeiro iPhone?\")\n",
    "print(\"a) 2005\")\n",
    "print(\"b) 2010\")\n",
    "print(\"c) 2007\")\n",
    "\n",
    "resposta_pergunta6 = input(\"Sua resposta: \").lower()\n",
    "    \n",
    "if resposta_pergunta6 == \"c\":\n",
    "    print(\"Resposta correta! Você ganhou 10 pontos.\")\n",
    "    pontuacao_total += 10\n",
    "else:\n",
    "    print(\"Resposta incorreta. A resposta correta é 'c'.\")\n",
    "    "
   ]
  },
  {
   "cell_type": "code",
   "execution_count": null,
   "id": "bff2b10e-eb3a-4f8f-9d98-4d2fe3fcc493",
   "metadata": {},
   "outputs": [],
   "source": [
    "# Pergunta 7\n",
    "print(\"\\nPergunta 7: Qual é o maior oceano do mundo?\")\n",
    "print(\"a) Oceano Pacífico\")\n",
    "print(\"b) Oceano Atlântico\")\n",
    "print(\"c) Oceano Índico\")\n",
    "\n",
    "resposta_pergunta7 = input(\"Sua resposta: \").lower()\n",
    "    \n",
    "if resposta_pergunta7 == \"a\":\n",
    "    print(\"Resposta correta! Você ganhou 10 pontos.\")\n",
    "    pontuacao_total += 10\n",
    "else:\n",
    "    print(\"Resposta incorreta. A resposta correta é 'a'.\")\n",
    "    "
   ]
  },
  {
   "cell_type": "code",
   "execution_count": null,
   "id": "7eb022d1-bcd2-4b25-830e-99854e503e79",
   "metadata": {},
   "outputs": [],
   "source": [
    "# Pergunta 8\n",
    "print(\"\\nPergunta 8: Quem escreveu 'Romeu e Julieta'?\")\n",
    "print(\"a) Charles Dickens\")\n",
    "print(\"b) William Shakespeare\")\n",
    "print(\"c) Jane Austen\") \n",
    "\n",
    "resposta_pergunta8 = input(\"Sua resposta: \").lower()\n",
    "\n",
    "if resposta_pergunta8 == \"b\":\n",
    "    print(\"Resposta correta! Você ganhou 10 pontos.\")\n",
    "    pontuacao_total += 10\n",
    "else:\n",
    "    print(\"Resposta incorreta. A resposta correta é 'b'.\")\n"
   ]
  },
  {
   "cell_type": "code",
   "execution_count": null,
   "id": "dd43e295-783c-4417-b3cc-5b9c3239512e",
   "metadata": {},
   "outputs": [],
   "source": [
    "# Pergunta 9\n",
    "print(\"\\nPergunta 9: Qual é o maior rio do mundo?\")\n",
    "print(\"a) Nilo\")\n",
    "print(\"b) Amazonas\")\n",
    "print(\"c) Yangtzé\")\n",
    "\n",
    "resposta_pergunta9 = input(\"Sua resposta: \").lower()\n",
    "\n",
    "if resposta_pergunta9 == \"b\":\n",
    "    print(\"Resposta correta! Você ganhou 10 pontos.\")\n",
    "    pontuacao_total += 10\n",
    "else:\n",
    "    print(\"Resposta incorreta. A resposta correta é 'b'.\")"
   ]
  },
  {
   "cell_type": "code",
   "execution_count": null,
   "id": "a1679fb2-be16-4f4a-86c0-27dd2eb0191a",
   "metadata": {},
   "outputs": [],
   "source": [
    "# Pergunta 10\n",
    "print(\"\\nPergunta 10: Quem foi o físico que desenvolveu a Teoria da Relatividade?\")\n",
    "print(\"a) Isaac Newton\")\n",
    "print(\"b) Galileu Galilei\")\n",
    "print(\"c) Albert Einstein\")\n",
    "\n",
    "resposta_pergunta10 = input(\"Sua resposta: \").lower()\n",
    "\n",
    "if resposta_pergunta10 == \"c\":\n",
    "    print(\"Resposta correta! Você ganhou 10 pontos.\")\n",
    "    pontuacao_total += 10\n",
    "else:\n",
    "    print(\"Resposta incorreta. A resposta correta é 'c'.\")"
   ]
  },
  {
   "cell_type": "code",
   "execution_count": null,
   "id": "464c5d46-8f17-487d-b9c9-2943c053c135",
   "metadata": {},
   "outputs": [],
   "source": [
    "# Exibir pontuação total\n",
    "print(\"\\nPontuação total:\", pontuacao_total)\n"
   ]
  },
  {
   "cell_type": "code",
   "execution_count": null,
   "id": "facc3501-0129-4121-8970-a4ad720a4281",
   "metadata": {},
   "outputs": [],
   "source": []
  }
 ],
 "metadata": {
  "kernelspec": {
   "display_name": "Python 3 (ipykernel)",
   "language": "python",
   "name": "python3"
  },
  "language_info": {
   "codemirror_mode": {
    "name": "ipython",
    "version": 3
   },
   "file_extension": ".py",
   "mimetype": "text/x-python",
   "name": "python",
   "nbconvert_exporter": "python",
   "pygments_lexer": "ipython3",
   "version": "3.8.18"
  }
 },
 "nbformat": 4,
 "nbformat_minor": 5
}
