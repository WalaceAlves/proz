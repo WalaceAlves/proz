{
 "cells": [
  {
   "cell_type": "code",
   "execution_count": 1,
   "id": "1ff84cd5-1574-4b0f-af96-094865f1f41d",
   "metadata": {},
   "outputs": [],
   "source": [
    "import pandas as pd"
   ]
  },
  {
   "cell_type": "code",
   "execution_count": 3,
   "id": "0bc2b91c-5908-4abf-944d-750f46a3f593",
   "metadata": {},
   "outputs": [
    {
     "name": "stdout",
     "output_type": "stream",
     "text": [
      "Pergunta 1: Qual é a capital do Brasil?\n",
      "a) São Paulo\n",
      "b) Rio de Janeiro\n",
      "c) Brasília\n"
     ]
    },
    {
     "name": "stdin",
     "output_type": "stream",
     "text": [
      "Sua resposta:  c\n"
     ]
    },
    {
     "name": "stdout",
     "output_type": "stream",
     "text": [
      "Resposta correta! Você ganhou 10 pontos.\n",
      "\n",
      "Pergunta 2: Quem é o autor de 'Dom Quixote'?\n",
      "a) William Shakespeare\n",
      "b) Miguel de Cervantes\n",
      "c) Fyodor Dostoevsky\n"
     ]
    },
    {
     "name": "stdin",
     "output_type": "stream",
     "text": [
      "Sua resposta:  b\n"
     ]
    },
    {
     "name": "stdout",
     "output_type": "stream",
     "text": [
      "Resposta correta! Você ganhou 10 pontos.\n",
      "\n",
      "Pontuação total: 20\n"
     ]
    }
   ],
   "source": [
    "pontuacao_total = 0  # Inicializa a pontuação total\n",
    "\n",
    "# Pergunta 1\n",
    "print(\"Pergunta 1: Qual é a capital do Brasil?\")\n",
    "print(\"a) São Paulo\")\n",
    "print(\"b) Rio de Janeiro\")\n",
    "print(\"c) Brasília\")\n",
    "\n",
    "resposta_pergunta1 = input(\"Sua resposta: \").lower()\n",
    "\n",
    "if resposta_pergunta1 == \"c\":\n",
    "    print(\"Resposta correta! Você ganhou 10 pontos.\")\n",
    "    pontuacao_total += 10\n",
    "else:\n",
    "    print(\"Resposta incorreta. A resposta correta é 'c'.\")\n",
    "\n",
    "# Pergunta 2\n",
    "print(\"\\nPergunta 2: Quem é o autor de 'Dom Quixote'?\")\n",
    "print(\"a) William Shakespeare\")\n",
    "print(\"b) Miguel de Cervantes\")\n",
    "print(\"c) Fyodor Dostoevsky\")\n",
    "\n",
    "resposta_pergunta2 = input(\"Sua resposta: \").lower()\n",
    "\n",
    "if resposta_pergunta2 == \"b\":\n",
    "    print(\"Resposta correta! Você ganhou 10 pontos.\")\n",
    "    pontuacao_total += 10\n",
    "else:\n",
    "    print(\"Resposta incorreta. A resposta correta é 'b'.\")\n",
    "\n",
    "# Exibir pontuação total\n",
    "print(\"\\nPontuação total:\", pontuacao_total)\n"
   ]
  },
  {
   "cell_type": "code",
   "execution_count": null,
   "id": "5d89506c-4c76-4504-bdd9-ec6951847868",
   "metadata": {},
   "outputs": [],
   "source": []
  }
 ],
 "metadata": {
  "kernelspec": {
   "display_name": "Python 3 (ipykernel)",
   "language": "python",
   "name": "python3"
  },
  "language_info": {
   "codemirror_mode": {
    "name": "ipython",
    "version": 3
   },
   "file_extension": ".py",
   "mimetype": "text/x-python",
   "name": "python",
   "nbconvert_exporter": "python",
   "pygments_lexer": "ipython3",
   "version": "3.8.18"
  }
 },
 "nbformat": 4,
 "nbformat_minor": 5
}
