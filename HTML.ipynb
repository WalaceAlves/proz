{
 "cells": [
  {
   "cell_type": "code",
   "execution_count": null,
   "id": "1a7170b0-f5f2-4045-b4f8-2fcb2fe5c674",
   "metadata": {},
   "outputs": [],
   "source": [
    "Fig 1\n",
    "1. <header>            \n",
    "2. <main>               \n",
    "3. <nav>                  \n",
    "4. <img>                 \n",
    "5. <h1>                   \n",
    "6. <h2>                   \n",
    "7. <p>                     \n",
    "\n",
    "Fig 2\n",
    "8. <a>      \n",
    "9. <footer>\n",
    "10. <ul>\n",
    "11. <li>\n",
    "\n",
    "Fig 3\n",
    "12. <form>\n",
    "13. <label>\n",
    "14. <input>\n",
    "15. <select>\n",
    "16. <button>*"
   ]
  }
 ],
 "metadata": {
  "kernelspec": {
   "display_name": "Python 3 (ipykernel)",
   "language": "python",
   "name": "python3"
  },
  "language_info": {
   "codemirror_mode": {
    "name": "ipython",
    "version": 3
   },
   "file_extension": ".py",
   "mimetype": "text/x-python",
   "name": "python",
   "nbconvert_exporter": "python",
   "pygments_lexer": "ipython3",
   "version": "3.8.18"
  }
 },
 "nbformat": 4,
 "nbformat_minor": 5
}
